{
 "cells": [
  {
   "cell_type": "markdown",
   "metadata": {},
   "source": [
    "### Feature Selection using Variance Threshold Approach for SVM Classifier"
   ]
  },
  {
   "cell_type": "code",
   "execution_count": 11,
   "metadata": {},
   "outputs": [],
   "source": [
    "import matplotlib.pyplot as plt\n",
    "import pandas as pd\n",
    "import numpy as np\n",
    "from sklearn.svm import SVC\n",
    "import sklearn.datasets as ds\n",
    "from sklearn.model_selection import train_test_split"
   ]
  },
  {
   "cell_type": "code",
   "execution_count": 12,
   "metadata": {},
   "outputs": [
    {
     "name": "stdout",
     "output_type": "stream",
     "text": [
      "Number of samples:  1797\n",
      "Number of attributes:  64\n",
      "Classes:  [0 1 2 3 4 5 6 7 8 9]\n"
     ]
    },
    {
     "data": {
      "text/plain": [
       "<Figure size 432x288 with 0 Axes>"
      ]
     },
     "metadata": {},
     "output_type": "display_data"
    },
    {
     "data": {
      "image/png": "[encoded data removed]",
      "text/plain": [
       "<Figure size 1152x144 with 1 Axes>"
      ]
     },
     "metadata": {
      "needs_background": "light"
     },
     "output_type": "display_data"
    }
   ],
   "source": [
    "digit_data = ds.load_digits()\n",
    "\n",
    "print(\"Number of samples: \", digit_data.data.shape[0])\n",
    "print(\"Number of attributes: \", digit_data.data.shape[1])\n",
    "print(\"Classes: \", digit_data.target_names)\n",
    "\n",
    "c = digit_data.images[0]\n",
    "for i in range(1, 10):\n",
    "    c = np.concatenate((c, digit_data.images[i]), 1)\n",
    "\n",
    "plt.gray() \n",
    "plt.matshow(c)\n",
    "plt.show()"
   ]
  },
  {
   "cell_type": "code",
   "execution_count": 13,
   "metadata": {},
   "outputs": [
    {
     "name": "stdout",
     "output_type": "stream",
     "text": [
      "Number of training samples:  1437\n",
      "Number of testing samples:  360\n"
     ]
    }
   ],
   "source": [
    "X, y = digit_data.data, digit_data.target\n",
    "X_train, X_test, y_train, y_test = train_test_split(X, y, test_size=0.2, shuffle = True, random_state=20)\n",
    "\n",
    "print(\"Number of training samples: \", X_train.shape[0])\n",
    "print(\"Number of testing samples: \", X_test.shape[0])"
   ]
  },
  {
   "cell_type": "code",
   "execution_count": 14,
   "metadata": {},
   "outputs": [],
   "source": [
    "def train(X, y):\n",
    "    \n",
    "    classifier = SVC(kernel='linear')\n",
    "    classifier = classifier.fit(X,y)  # fit the classifier on training set\n",
    "    \n",
    "    preds = classifier.predict(X)  # predict the labels for training set\n",
    "    \n",
    "    train_accuracy = np.sum(y == preds) / len(y)  # calculate the accuracy (do not use built-in function)\n",
    "    \n",
    "    return classifier, train_accuracy\n",
    "\n",
    "def test(classifier, X, y):\n",
    "    \n",
    "    preds = classifier.predict(X)\n",
    "    test_accuracy = np.sum(y == preds) / len(y) # calculate the accuracy on test set\n",
    "    \n",
    "    return test_accuracy"
   ]
  },
  {
   "cell_type": "code",
   "execution_count": 15,
   "metadata": {
    "scrolled": true
   },
   "outputs": [
    {
     "name": "stdout",
     "output_type": "stream",
     "text": [
      "Train acc without feature selection:  1.0\n",
      "Test acc without feature selection:  0.975\n"
     ]
    }
   ],
   "source": [
    "# SVM classifier without feature selection\n",
    "svm, train_acc = train(X_train, y_train) # call train function with necessary parameters\n",
    "test_acc = test(svm, X_test, y_test)  # call test function with necessary parameters\n",
    "\n",
    "print(\"Train acc without feature selection: \", train_acc)\n",
    "print(\"Test acc without feature selection: \", test_acc)"
   ]
  },
  {
   "cell_type": "code",
   "execution_count": 16,
   "metadata": {},
   "outputs": [],
   "source": [
    "def variance_threshold(X, threshold=0):\n",
    "    \n",
    "    feature_vars = np.var(X, axis=0) # calculate variances\n",
    "    selected = np.where(feature_vars >= threshold)[0] # keep the indexes of selected feature\n",
    "    eliminated = np.where(feature_vars < threshold)[0] # keep the indexes of eliminated features\n",
    "    X_reduced = X[:,selected] # X with reduced feature set\n",
    "    \n",
    "    # calculate variances of each feature and eliminate features with variance lower than threshold.\n",
    "    \n",
    "    print(\"Indexes of the eliminated features: \", eliminated) # print the indexes of eliminated features.\n",
    "    \n",
    "    print(\"Number of features for threshold = \", threshold, \"is :\", X_reduced.shape[1])\n",
    "    return X_reduced, selected"
   ]
  },
  {
   "cell_type": "code",
   "execution_count": 17,
   "metadata": {},
   "outputs": [
    {
     "name": "stdout",
     "output_type": "stream",
     "text": [
      " \n",
      "Threshold =  1\n",
      "Indexes of the eliminated features:  [ 0  1  8 15 16 23 24 31 32 39 40 47 48 55 56 57]\n",
      "Number of features for threshold =  1 is : 48\n",
      "Train acc with feature selection:  1.0\n",
      "Test acc with feature selection:  0.975\n",
      " \n",
      "Threshold =  5\n",
      "Indexes of the eliminated features:  [ 0  1  7  8 15 16 23 24 31 32 39 40 47 48 49 55 56 57 63]\n",
      "Number of features for threshold =  5 is : 45\n",
      "Train acc with feature selection:  1.0\n",
      "Test acc with feature selection:  0.975\n",
      " \n",
      "Threshold =  10\n",
      "Indexes of the eliminated features:  [ 0  1  7  8 15 16 23 24 25 31 32 39 40 41 47 48 49 55 56 57 63]\n",
      "Number of features for threshold =  10 is : 43\n",
      "Train acc with feature selection:  1.0\n",
      "Test acc with feature selection:  0.975\n",
      " \n",
      "Threshold =  20\n",
      "Indexes of the eliminated features:  [ 0  1  3  4  6  7  8  9 11 14 15 16 17 22 23 24 25 30 31 32 33 38 39 40\n",
      " 41 46 47 48 49 55 56 57 59 62 63]\n",
      "Number of features for threshold =  20 is : 29\n",
      "Train acc with feature selection:  1.0\n",
      "Test acc with feature selection:  0.9777777777777777\n",
      " \n",
      "Threshold =  40\n",
      "Indexes of the eliminated features:  [ 0  1  2  3  4  5  6  7  8  9 10 11 12 13 14 15 16 17 18 19 20 21 22 23\n",
      " 24 25 26 27 28 29 30 31 32 33 35 36 37 38 39 40 41 44 45 46 47 48 49 50\n",
      " 51 52 53 54 55 56 57 58 59 60 61 62 63]\n",
      "Number of features for threshold =  40 is : 3\n",
      "Train acc with feature selection:  0.4836464857341684\n",
      "Test acc with feature selection:  0.5166666666666667\n"
     ]
    }
   ],
   "source": [
    "thresholds = [1, 5, 10, 20, 40]\n",
    "\n",
    "for th in thresholds:\n",
    "    print (' ')\n",
    "    print(\"Threshold = \", th)\n",
    "    X_reduced, selected = variance_threshold(X_train, th)\n",
    "    X_reduced_test = X_test[:,selected]\n",
    "\n",
    "    svm, train_acc = train(X_reduced, y_train) # call train function with necessary parameters\n",
    "    test_acc = test(svm, X_reduced_test, y_test)  # call test function with necessary parameters\n",
    "\n",
    "    print(\"Train acc with feature selection: \", train_acc)\n",
    "    print(\"Test acc with feature selection: \", test_acc)\n"
   ]
  },
  {
   "cell_type": "markdown",
   "metadata": {},
   "source": [
    "#### Discussion\n",
    "* When we remove features that have small variance, they do not affect much on the performance of the model. This is due to the fact that they do not add discriminatory information into the model. And even with a threshold of 20 the model performance improves a bit.\n",
    "* However, when we eliminate features with a higher treshold, we lose valuable features. Therefor the model does not work as well as before."
   ]
  }
 ],
 "metadata": {
  "kernelspec": {
   "display_name": "Python 3 (ipykernel)",
   "language": "python",
   "name": "python3"
  },
  "language_info": {
   "codemirror_mode": {
    "name": "ipython",
    "version": 3
   },
   "file_extension": ".py",
   "mimetype": "text/x-python",
   "name": "python",
   "nbconvert_exporter": "python",
   "pygments_lexer": "ipython3",
   "version": "3.9.7"
  }
 },
 "nbformat": 4,
 "nbformat_minor": 2
}
